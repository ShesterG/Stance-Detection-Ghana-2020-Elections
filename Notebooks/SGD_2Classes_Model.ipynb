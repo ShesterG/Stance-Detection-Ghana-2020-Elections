{
  "nbformat": 4,
  "nbformat_minor": 0,
  "metadata": {
    "kernelspec": {
      "display_name": "learn-env",
      "language": "python",
      "name": "learn-env"
    },
    "language_info": {
      "codemirror_mode": {
        "name": "ipython",
        "version": 3
      },
      "file_extension": ".py",
      "mimetype": "text/x-python",
      "name": "python",
      "nbconvert_exporter": "python",
      "pygments_lexer": "ipython3",
      "version": "3.6.9"
    },
    "toc": {
      "base_numbering": 1,
      "nav_menu": {},
      "number_sections": true,
      "sideBar": true,
      "skip_h1_title": false,
      "title_cell": "Table of Contents",
      "title_sidebar": "Contents",
      "toc_cell": false,
      "toc_position": {},
      "toc_section_display": true,
      "toc_window_display": false
    },
    "varInspector": {
      "cols": {
        "lenName": 16,
        "lenType": 16,
        "lenVar": 40
      },
      "kernels_config": {
        "python": {
          "delete_cmd_postfix": "",
          "delete_cmd_prefix": "del ",
          "library": "var_list.py",
          "varRefreshCmd": "print(var_dic_list())"
        },
        "r": {
          "delete_cmd_postfix": ") ",
          "delete_cmd_prefix": "rm(",
          "library": "var_list.r",
          "varRefreshCmd": "cat(var_dic_list()) "
        }
      },
      "types_to_exclude": [
        "module",
        "function",
        "builtin_function_or_method",
        "instance",
        "_Feature"
      ],
      "window_display": false
    },
    "colab": {
      "name": "10_nb_model_07.ipynb",
      "provenance": [],
      "include_colab_link": true
    }
  },
  "cells": [
    {
      "cell_type": "markdown",
      "metadata": {
        "id": "view-in-github",
        "colab_type": "text"
      },
      "source": [
        "<a href=\"https://colab.research.google.com/github/ShesterG/Stance-Detection-Ghana-2020-Elections/blob/main/Notebooks/SGD_2Classes_Model.ipynb\" target=\"_parent\"><img src=\"https://colab.research.google.com/assets/colab-badge.svg\" alt=\"Open In Colab\"/></a>"
      ]
    },
    {
      "cell_type": "markdown",
      "metadata": {
        "id": "YrwKcxuLlB0I"
      },
      "source": [
        "# Stochastic Gradient Descent Model for Twitter Stance (2 Classes) Analysis"
      ]
    },
    {
      "cell_type": "markdown",
      "metadata": {
        "id": "2WBLvxOIlB0M"
      },
      "source": [
        "# Imports and Constants"
      ]
    },
    {
      "cell_type": "code",
      "metadata": {
        "id": "IDkhRzp8mYLZ",
        "colab": {
          "base_uri": "https://localhost:8080/"
        },
        "outputId": "24ca0436-cad3-4b6e-8046-6d3bcc0f9c80"
      },
      "source": [
        "!git clone https://github.com/ShesterG/Stance-Detection-Ghana-2020-Elections.git\n",
        "\n",
        "%cd Stance-Detection-Ghana-2020-Elections/"
      ],
      "execution_count": 1,
      "outputs": [
        {
          "output_type": "stream",
          "name": "stdout",
          "text": [
            "fatal: destination path 'Stance-Detection-Ghana-2020-Elections' already exists and is not an empty directory.\n",
            "/content/Stance-Detection-Ghana-2020-Elections\n"
          ]
        }
      ]
    },
    {
      "cell_type": "code",
      "metadata": {
        "ExecuteTime": {
          "end_time": "2020-09-03T17:16:02.032719Z",
          "start_time": "2020-09-03T17:16:00.625927Z"
        },
        "id": "vzIoGAGJlB0M"
      },
      "source": [
        "import pandas as pd\n",
        "import numpy as np\n",
        "from sklearn.naive_bayes import MultinomialNB\n",
        "from sklearn.linear_model import SGDClassifier\n",
        "from sklearn.model_selection import train_test_split\n",
        "from sklearn.feature_extraction.text import CountVectorizer\n",
        "from imblearn.pipeline import Pipeline\n",
        "from sklearn.preprocessing import LabelEncoder\n",
        "from sklearn.metrics import classification_report, plot_confusion_matrix\n",
        "import matplotlib.pyplot as plt\n",
        "%matplotlib inline\n",
        "from sklearn.metrics import precision_recall_curve, auc\n",
        "from sklearn.metrics import accuracy_score, f1_score, recall_score, precision_score\n",
        "from sklearn.preprocessing import LabelBinarizer\n",
        "#import evaluation_functions\n",
        "from sklearn.metrics import confusion_matrix\n",
        "from sklearn.metrics import classification_report\n",
        "from sklearn.feature_extraction.text import TfidfTransformer \n",
        "from imblearn.over_sampling import SMOTE\n",
        "import ast\n",
        "\n",
        "\n",
        "\n",
        "from sklearn.model_selection import cross_val_score\n",
        "from sklearn.model_selection import cross_validate\n",
        "from sklearn.model_selection import cross_val_predict\n",
        "\n",
        "from sklearn.model_selection import StratifiedKFold\n",
        "\n",
        "\n",
        "from sklearn.metrics import make_scorer"
      ],
      "execution_count": 2,
      "outputs": []
    },
    {
      "cell_type": "code",
      "metadata": {
        "id": "DJjGXcMxoD4T",
        "colab": {
          "base_uri": "https://localhost:8080/"
        },
        "outputId": "c72cb8f4-af7a-4f8a-8118-844c0bed105d"
      },
      "source": [
        "import nltk\n",
        "nltk.download('wordnet')"
      ],
      "execution_count": 3,
      "outputs": [
        {
          "output_type": "stream",
          "name": "stdout",
          "text": [
            "[nltk_data] Downloading package wordnet to /root/nltk_data...\n",
            "[nltk_data]   Package wordnet is already up-to-date!\n"
          ]
        },
        {
          "output_type": "execute_result",
          "data": {
            "text/plain": [
              "True"
            ]
          },
          "metadata": {},
          "execution_count": 3
        }
      ]
    },
    {
      "cell_type": "code",
      "metadata": {
        "ExecuteTime": {
          "end_time": "2020-09-03T17:16:02.041305Z",
          "start_time": "2020-09-03T17:16:02.035575Z"
        },
        "id": "eThQ6F_GlB0O"
      },
      "source": [
        "DATA_FILE_PATH = '/content/Stance-Detection-Ghana-2020-Elections/Dataset/'\n",
        "CLEAN_DATA_FILE_NAME = '01EDA_All_Model_Tweets_Ghana_2020_Elections_L.csv'\n",
        "TOKENIZED_DATA_FILE_NAME = '02TPP_All_Model_Tweets_Ghana_2020_Elections_L.csv'\n",
        "pd.set_option('display.max_colwidth', None)\n",
        "RANDOM_STATE = 42"
      ],
      "execution_count": 4,
      "outputs": []
    },
    {
      "cell_type": "markdown",
      "metadata": {
        "id": "VHp27KjYlB0O"
      },
      "source": [
        "# Load Data"
      ]
    },
    {
      "cell_type": "code",
      "metadata": {
        "ExecuteTime": {
          "end_time": "2020-09-03T17:16:02.095819Z",
          "start_time": "2020-09-03T17:16:02.044919Z"
        },
        "id": "zDbeITEDlB0P"
      },
      "source": [
        "df = pd.read_csv(DATA_FILE_PATH + TOKENIZED_DATA_FILE_NAME)"
      ],
      "execution_count": 5,
      "outputs": []
    },
    {
      "cell_type": "code",
      "metadata": {
        "ExecuteTime": {
          "end_time": "2020-09-03T17:16:02.121217Z",
          "start_time": "2020-09-03T17:16:02.098927Z"
        },
        "id": "10w_mXfylB0P",
        "colab": {
          "base_uri": "https://localhost:8080/",
          "height": 372
        },
        "outputId": "8b287991-402f-466e-de9e-079d0b87f770"
      },
      "source": [
        "df.head()"
      ],
      "execution_count": 6,
      "outputs": [
        {
          "output_type": "execute_result",
          "data": {
            "text/plain": [
              "   ID  \\\n",
              "0   2   \n",
              "1   6   \n",
              "2   7   \n",
              "3  17   \n",
              "4  18   \n",
              "\n",
              "                                                                                                                                                Tweet  \\\n",
              "0  @NAkufoAddo  H. E Nana please follow up on this FAKE NEWS, LIES and sue BBC for peddling false information. Hold alÃ¢â¬Â¦ https://t.co/SdwnMsxeUV   \n",
              "1                       @ChipsJhay @TruthFreema @AOuattara_PRCI @NAkufoAddo No, you haven't. He's using his freedom of speech as it is. He's covered.   \n",
              "2                                                                    @IssahGerard @HEgyiri @NAkufoAddo Please who is this and how is he your in law??   \n",
              "3                                                           @Kwame34580189 @bukolasaraki @NAkufoAddo Whatever.... Thought you had something there....   \n",
              "4                                                                     @NAkufoAddo Remember that the good people of Gh have spoken therefore Soo be it   \n",
              "\n",
              "  Candidate  Stance  \\\n",
              "0      Nana     0.0   \n",
              "1      Nana     0.0   \n",
              "2      Nana     0.0   \n",
              "3      Nana     0.0   \n",
              "4      Nana     0.0   \n",
              "\n",
              "                                                                                                Preproc_Tweet  \\\n",
              "0  nana  h e nana please follow up on this fake news lies and sue bbc for peddling false information hold al    \n",
              "1                                  nana no you haven't he's using his freedom of speech as it is he's covered   \n",
              "2                                                           nana please who is this and how is he your in law   \n",
              "3                                                               nana whatever thought you had something there   \n",
              "4                                    nana remember that the good people of gh have spoken therefore soo be it   \n",
              "\n",
              "                                                                                                                                                         Tokens  \n",
              "0  ['nana', 'h', 'e', 'nana', 'pleas', 'follow', 'up', 'on', 'thi', 'fake', 'news', 'lie', 'and', 'sue', 'bbc', 'for', 'peddl', 'fals', 'inform', 'hold', 'al']  \n",
              "1                                             ['nana', 'no', 'you', \"haven't\", \"he'\", 'use', 'hi', 'freedom', 'of', 'speech', 'as', 'it', 'is', \"he'\", 'cover']  \n",
              "2                                                                          ['nana', 'pleas', 'who', 'is', 'thi', 'and', 'how', 'is', 'he', 'your', 'in', 'law']  \n",
              "3                                                                                                ['nana', 'whatev', 'thought', 'you', 'had', 'someth', 'there']  \n",
              "4                                               ['nana', 'rememb', 'that', 'the', 'good', 'peopl', 'of', 'gh', 'have', 'spoken', 'therefor', 'soo', 'be', 'it']  "
            ],
            "text/html": [
              "\n",
              "  <div id=\"df-23c6e26e-4302-4a31-a5e4-4413e5859f87\">\n",
              "    <div class=\"colab-df-container\">\n",
              "      <div>\n",
              "<style scoped>\n",
              "    .dataframe tbody tr th:only-of-type {\n",
              "        vertical-align: middle;\n",
              "    }\n",
              "\n",
              "    .dataframe tbody tr th {\n",
              "        vertical-align: top;\n",
              "    }\n",
              "\n",
              "    .dataframe thead th {\n",
              "        text-align: right;\n",
              "    }\n",
              "</style>\n",
              "<table border=\"1\" class=\"dataframe\">\n",
              "  <thead>\n",
              "    <tr style=\"text-align: right;\">\n",
              "      <th></th>\n",
              "      <th>ID</th>\n",
              "      <th>Tweet</th>\n",
              "      <th>Candidate</th>\n",
              "      <th>Stance</th>\n",
              "      <th>Preproc_Tweet</th>\n",
              "      <th>Tokens</th>\n",
              "    </tr>\n",
              "  </thead>\n",
              "  <tbody>\n",
              "    <tr>\n",
              "      <th>0</th>\n",
              "      <td>2</td>\n",
              "      <td>@NAkufoAddo  H. E Nana please follow up on this FAKE NEWS, LIES and sue BBC for peddling false information. Hold alÃ¢â¬Â¦ https://t.co/SdwnMsxeUV</td>\n",
              "      <td>Nana</td>\n",
              "      <td>0.0</td>\n",
              "      <td>nana  h e nana please follow up on this fake news lies and sue bbc for peddling false information hold al</td>\n",
              "      <td>['nana', 'h', 'e', 'nana', 'pleas', 'follow', 'up', 'on', 'thi', 'fake', 'news', 'lie', 'and', 'sue', 'bbc', 'for', 'peddl', 'fals', 'inform', 'hold', 'al']</td>\n",
              "    </tr>\n",
              "    <tr>\n",
              "      <th>1</th>\n",
              "      <td>6</td>\n",
              "      <td>@ChipsJhay @TruthFreema @AOuattara_PRCI @NAkufoAddo No, you haven't. He's using his freedom of speech as it is. He's covered.</td>\n",
              "      <td>Nana</td>\n",
              "      <td>0.0</td>\n",
              "      <td>nana no you haven't he's using his freedom of speech as it is he's covered</td>\n",
              "      <td>['nana', 'no', 'you', \"haven't\", \"he'\", 'use', 'hi', 'freedom', 'of', 'speech', 'as', 'it', 'is', \"he'\", 'cover']</td>\n",
              "    </tr>\n",
              "    <tr>\n",
              "      <th>2</th>\n",
              "      <td>7</td>\n",
              "      <td>@IssahGerard @HEgyiri @NAkufoAddo Please who is this and how is he your in law??</td>\n",
              "      <td>Nana</td>\n",
              "      <td>0.0</td>\n",
              "      <td>nana please who is this and how is he your in law</td>\n",
              "      <td>['nana', 'pleas', 'who', 'is', 'thi', 'and', 'how', 'is', 'he', 'your', 'in', 'law']</td>\n",
              "    </tr>\n",
              "    <tr>\n",
              "      <th>3</th>\n",
              "      <td>17</td>\n",
              "      <td>@Kwame34580189 @bukolasaraki @NAkufoAddo Whatever.... Thought you had something there....</td>\n",
              "      <td>Nana</td>\n",
              "      <td>0.0</td>\n",
              "      <td>nana whatever thought you had something there</td>\n",
              "      <td>['nana', 'whatev', 'thought', 'you', 'had', 'someth', 'there']</td>\n",
              "    </tr>\n",
              "    <tr>\n",
              "      <th>4</th>\n",
              "      <td>18</td>\n",
              "      <td>@NAkufoAddo Remember that the good people of Gh have spoken therefore Soo be it</td>\n",
              "      <td>Nana</td>\n",
              "      <td>0.0</td>\n",
              "      <td>nana remember that the good people of gh have spoken therefore soo be it</td>\n",
              "      <td>['nana', 'rememb', 'that', 'the', 'good', 'peopl', 'of', 'gh', 'have', 'spoken', 'therefor', 'soo', 'be', 'it']</td>\n",
              "    </tr>\n",
              "  </tbody>\n",
              "</table>\n",
              "</div>\n",
              "      <button class=\"colab-df-convert\" onclick=\"convertToInteractive('df-23c6e26e-4302-4a31-a5e4-4413e5859f87')\"\n",
              "              title=\"Convert this dataframe to an interactive table.\"\n",
              "              style=\"display:none;\">\n",
              "        \n",
              "  <svg xmlns=\"http://www.w3.org/2000/svg\" height=\"24px\"viewBox=\"0 0 24 24\"\n",
              "       width=\"24px\">\n",
              "    <path d=\"M0 0h24v24H0V0z\" fill=\"none\"/>\n",
              "    <path d=\"M18.56 5.44l.94 2.06.94-2.06 2.06-.94-2.06-.94-.94-2.06-.94 2.06-2.06.94zm-11 1L8.5 8.5l.94-2.06 2.06-.94-2.06-.94L8.5 2.5l-.94 2.06-2.06.94zm10 10l.94 2.06.94-2.06 2.06-.94-2.06-.94-.94-2.06-.94 2.06-2.06.94z\"/><path d=\"M17.41 7.96l-1.37-1.37c-.4-.4-.92-.59-1.43-.59-.52 0-1.04.2-1.43.59L10.3 9.45l-7.72 7.72c-.78.78-.78 2.05 0 2.83L4 21.41c.39.39.9.59 1.41.59.51 0 1.02-.2 1.41-.59l7.78-7.78 2.81-2.81c.8-.78.8-2.07 0-2.86zM5.41 20L4 18.59l7.72-7.72 1.47 1.35L5.41 20z\"/>\n",
              "  </svg>\n",
              "      </button>\n",
              "      \n",
              "  <style>\n",
              "    .colab-df-container {\n",
              "      display:flex;\n",
              "      flex-wrap:wrap;\n",
              "      gap: 12px;\n",
              "    }\n",
              "\n",
              "    .colab-df-convert {\n",
              "      background-color: #E8F0FE;\n",
              "      border: none;\n",
              "      border-radius: 50%;\n",
              "      cursor: pointer;\n",
              "      display: none;\n",
              "      fill: #1967D2;\n",
              "      height: 32px;\n",
              "      padding: 0 0 0 0;\n",
              "      width: 32px;\n",
              "    }\n",
              "\n",
              "    .colab-df-convert:hover {\n",
              "      background-color: #E2EBFA;\n",
              "      box-shadow: 0px 1px 2px rgba(60, 64, 67, 0.3), 0px 1px 3px 1px rgba(60, 64, 67, 0.15);\n",
              "      fill: #174EA6;\n",
              "    }\n",
              "\n",
              "    [theme=dark] .colab-df-convert {\n",
              "      background-color: #3B4455;\n",
              "      fill: #D2E3FC;\n",
              "    }\n",
              "\n",
              "    [theme=dark] .colab-df-convert:hover {\n",
              "      background-color: #434B5C;\n",
              "      box-shadow: 0px 1px 3px 1px rgba(0, 0, 0, 0.15);\n",
              "      filter: drop-shadow(0px 1px 2px rgba(0, 0, 0, 0.3));\n",
              "      fill: #FFFFFF;\n",
              "    }\n",
              "  </style>\n",
              "\n",
              "      <script>\n",
              "        const buttonEl =\n",
              "          document.querySelector('#df-23c6e26e-4302-4a31-a5e4-4413e5859f87 button.colab-df-convert');\n",
              "        buttonEl.style.display =\n",
              "          google.colab.kernel.accessAllowed ? 'block' : 'none';\n",
              "\n",
              "        async function convertToInteractive(key) {\n",
              "          const element = document.querySelector('#df-23c6e26e-4302-4a31-a5e4-4413e5859f87');\n",
              "          const dataTable =\n",
              "            await google.colab.kernel.invokeFunction('convertToInteractive',\n",
              "                                                     [key], {});\n",
              "          if (!dataTable) return;\n",
              "\n",
              "          const docLinkHtml = 'Like what you see? Visit the ' +\n",
              "            '<a target=\"_blank\" href=https://colab.research.google.com/notebooks/data_table.ipynb>data table notebook</a>'\n",
              "            + ' to learn more about interactive tables.';\n",
              "          element.innerHTML = '';\n",
              "          dataTable['output_type'] = 'display_data';\n",
              "          await google.colab.output.renderOutput(dataTable, element);\n",
              "          const docLink = document.createElement('div');\n",
              "          docLink.innerHTML = docLinkHtml;\n",
              "          element.appendChild(docLink);\n",
              "        }\n",
              "      </script>\n",
              "    </div>\n",
              "  </div>\n",
              "  "
            ]
          },
          "metadata": {},
          "execution_count": 6
        }
      ]
    },
    {
      "cell_type": "code",
      "metadata": {
        "id": "kjVU9EBaTjR_"
      },
      "source": [
        "df = df[df.Stance != 0]"
      ],
      "execution_count": 7,
      "outputs": []
    },
    {
      "cell_type": "code",
      "metadata": {
        "ExecuteTime": {
          "end_time": "2020-09-03T17:16:02.657186Z",
          "start_time": "2020-09-03T17:16:02.123742Z"
        },
        "id": "Mrv9uejolB0Q"
      },
      "source": [
        "df.Tokens = df.Tokens.map(ast.literal_eval)"
      ],
      "execution_count": 8,
      "outputs": []
    },
    {
      "cell_type": "code",
      "metadata": {
        "ExecuteTime": {
          "end_time": "2020-09-03T17:16:02.667070Z",
          "start_time": "2020-09-03T17:16:02.659444Z"
        },
        "id": "h4P53kCwlB0Q"
      },
      "source": [
        "data = df[['Tokens', 'Stance']]"
      ],
      "execution_count": 9,
      "outputs": []
    },
    {
      "cell_type": "code",
      "metadata": {
        "id": "q52zsaaRZoHt",
        "colab": {
          "base_uri": "https://localhost:8080/"
        },
        "outputId": "c4b21067-c44f-465d-ac9e-458f38f6b95f"
      },
      "source": [
        "df.value_counts([\"Candidate\", \"Stance\"])"
      ],
      "execution_count": 10,
      "outputs": [
        {
          "output_type": "execute_result",
          "data": {
            "text/plain": [
              "Candidate  Stance\n",
              "John       -1.0      515\n",
              "            1.0      515\n",
              "Nana       -1.0      515\n",
              "            1.0      515\n",
              "dtype: int64"
            ]
          },
          "metadata": {},
          "execution_count": 10
        }
      ]
    },
    {
      "cell_type": "code",
      "metadata": {
        "colab": {
          "base_uri": "https://localhost:8080/"
        },
        "id": "BSibz1ahTrbe",
        "outputId": "e3bee448-5ca8-4339-f5ce-95bc18bed609"
      },
      "source": [
        "data.Stance.value_counts()"
      ],
      "execution_count": 11,
      "outputs": [
        {
          "output_type": "execute_result",
          "data": {
            "text/plain": [
              " 1.0    1030\n",
              "-1.0    1030\n",
              "Name: Stance, dtype: int64"
            ]
          },
          "metadata": {},
          "execution_count": 11
        }
      ]
    },
    {
      "cell_type": "code",
      "metadata": {
        "ExecuteTime": {
          "end_time": "2020-09-03T17:16:02.686384Z",
          "start_time": "2020-09-03T17:16:02.669773Z"
        },
        "id": "c5pF75gClB0R",
        "colab": {
          "base_uri": "https://localhost:8080/",
          "height": 206
        },
        "outputId": "356de41f-781d-431c-dd39-e3a3327e92b7"
      },
      "source": [
        "data.head()"
      ],
      "execution_count": 12,
      "outputs": [
        {
          "output_type": "execute_result",
          "data": {
            "text/plain": [
              "                                                                                                                        Tokens  \\\n",
              "803                                                                    [nana, good, to, go, may, god, bless, an, protect, you]   \n",
              "804  [mr, presid, receiv, the, grace, of, god, almighti, to, do, what, he, ha, ordain, you, for, in, jesu, mighti, name, nana]   \n",
              "805                                                 [nana, pleas, may, god, continu, to, strengthen, you, to, do, more, pleas]   \n",
              "806                                           [nana, congratul, for, your, smooth, and, qualiti, leadership, of, thi, countri]   \n",
              "807                                                                   [#ghana, s, nana, is, name, winner, of, the, report, by]   \n",
              "\n",
              "     Stance  \n",
              "803     1.0  \n",
              "804     1.0  \n",
              "805     1.0  \n",
              "806     1.0  \n",
              "807     1.0  "
            ],
            "text/html": [
              "\n",
              "  <div id=\"df-009ffdb9-0b27-49f9-bb3c-932e93b7d27a\">\n",
              "    <div class=\"colab-df-container\">\n",
              "      <div>\n",
              "<style scoped>\n",
              "    .dataframe tbody tr th:only-of-type {\n",
              "        vertical-align: middle;\n",
              "    }\n",
              "\n",
              "    .dataframe tbody tr th {\n",
              "        vertical-align: top;\n",
              "    }\n",
              "\n",
              "    .dataframe thead th {\n",
              "        text-align: right;\n",
              "    }\n",
              "</style>\n",
              "<table border=\"1\" class=\"dataframe\">\n",
              "  <thead>\n",
              "    <tr style=\"text-align: right;\">\n",
              "      <th></th>\n",
              "      <th>Tokens</th>\n",
              "      <th>Stance</th>\n",
              "    </tr>\n",
              "  </thead>\n",
              "  <tbody>\n",
              "    <tr>\n",
              "      <th>803</th>\n",
              "      <td>[nana, good, to, go, may, god, bless, an, protect, you]</td>\n",
              "      <td>1.0</td>\n",
              "    </tr>\n",
              "    <tr>\n",
              "      <th>804</th>\n",
              "      <td>[mr, presid, receiv, the, grace, of, god, almighti, to, do, what, he, ha, ordain, you, for, in, jesu, mighti, name, nana]</td>\n",
              "      <td>1.0</td>\n",
              "    </tr>\n",
              "    <tr>\n",
              "      <th>805</th>\n",
              "      <td>[nana, pleas, may, god, continu, to, strengthen, you, to, do, more, pleas]</td>\n",
              "      <td>1.0</td>\n",
              "    </tr>\n",
              "    <tr>\n",
              "      <th>806</th>\n",
              "      <td>[nana, congratul, for, your, smooth, and, qualiti, leadership, of, thi, countri]</td>\n",
              "      <td>1.0</td>\n",
              "    </tr>\n",
              "    <tr>\n",
              "      <th>807</th>\n",
              "      <td>[#ghana, s, nana, is, name, winner, of, the, report, by]</td>\n",
              "      <td>1.0</td>\n",
              "    </tr>\n",
              "  </tbody>\n",
              "</table>\n",
              "</div>\n",
              "      <button class=\"colab-df-convert\" onclick=\"convertToInteractive('df-009ffdb9-0b27-49f9-bb3c-932e93b7d27a')\"\n",
              "              title=\"Convert this dataframe to an interactive table.\"\n",
              "              style=\"display:none;\">\n",
              "        \n",
              "  <svg xmlns=\"http://www.w3.org/2000/svg\" height=\"24px\"viewBox=\"0 0 24 24\"\n",
              "       width=\"24px\">\n",
              "    <path d=\"M0 0h24v24H0V0z\" fill=\"none\"/>\n",
              "    <path d=\"M18.56 5.44l.94 2.06.94-2.06 2.06-.94-2.06-.94-.94-2.06-.94 2.06-2.06.94zm-11 1L8.5 8.5l.94-2.06 2.06-.94-2.06-.94L8.5 2.5l-.94 2.06-2.06.94zm10 10l.94 2.06.94-2.06 2.06-.94-2.06-.94-.94-2.06-.94 2.06-2.06.94z\"/><path d=\"M17.41 7.96l-1.37-1.37c-.4-.4-.92-.59-1.43-.59-.52 0-1.04.2-1.43.59L10.3 9.45l-7.72 7.72c-.78.78-.78 2.05 0 2.83L4 21.41c.39.39.9.59 1.41.59.51 0 1.02-.2 1.41-.59l7.78-7.78 2.81-2.81c.8-.78.8-2.07 0-2.86zM5.41 20L4 18.59l7.72-7.72 1.47 1.35L5.41 20z\"/>\n",
              "  </svg>\n",
              "      </button>\n",
              "      \n",
              "  <style>\n",
              "    .colab-df-container {\n",
              "      display:flex;\n",
              "      flex-wrap:wrap;\n",
              "      gap: 12px;\n",
              "    }\n",
              "\n",
              "    .colab-df-convert {\n",
              "      background-color: #E8F0FE;\n",
              "      border: none;\n",
              "      border-radius: 50%;\n",
              "      cursor: pointer;\n",
              "      display: none;\n",
              "      fill: #1967D2;\n",
              "      height: 32px;\n",
              "      padding: 0 0 0 0;\n",
              "      width: 32px;\n",
              "    }\n",
              "\n",
              "    .colab-df-convert:hover {\n",
              "      background-color: #E2EBFA;\n",
              "      box-shadow: 0px 1px 2px rgba(60, 64, 67, 0.3), 0px 1px 3px 1px rgba(60, 64, 67, 0.15);\n",
              "      fill: #174EA6;\n",
              "    }\n",
              "\n",
              "    [theme=dark] .colab-df-convert {\n",
              "      background-color: #3B4455;\n",
              "      fill: #D2E3FC;\n",
              "    }\n",
              "\n",
              "    [theme=dark] .colab-df-convert:hover {\n",
              "      background-color: #434B5C;\n",
              "      box-shadow: 0px 1px 3px 1px rgba(0, 0, 0, 0.15);\n",
              "      filter: drop-shadow(0px 1px 2px rgba(0, 0, 0, 0.3));\n",
              "      fill: #FFFFFF;\n",
              "    }\n",
              "  </style>\n",
              "\n",
              "      <script>\n",
              "        const buttonEl =\n",
              "          document.querySelector('#df-009ffdb9-0b27-49f9-bb3c-932e93b7d27a button.colab-df-convert');\n",
              "        buttonEl.style.display =\n",
              "          google.colab.kernel.accessAllowed ? 'block' : 'none';\n",
              "\n",
              "        async function convertToInteractive(key) {\n",
              "          const element = document.querySelector('#df-009ffdb9-0b27-49f9-bb3c-932e93b7d27a');\n",
              "          const dataTable =\n",
              "            await google.colab.kernel.invokeFunction('convertToInteractive',\n",
              "                                                     [key], {});\n",
              "          if (!dataTable) return;\n",
              "\n",
              "          const docLinkHtml = 'Like what you see? Visit the ' +\n",
              "            '<a target=\"_blank\" href=https://colab.research.google.com/notebooks/data_table.ipynb>data table notebook</a>'\n",
              "            + ' to learn more about interactive tables.';\n",
              "          element.innerHTML = '';\n",
              "          dataTable['output_type'] = 'display_data';\n",
              "          await google.colab.output.renderOutput(dataTable, element);\n",
              "          const docLink = document.createElement('div');\n",
              "          docLink.innerHTML = docLinkHtml;\n",
              "          element.appendChild(docLink);\n",
              "        }\n",
              "      </script>\n",
              "    </div>\n",
              "  </div>\n",
              "  "
            ]
          },
          "metadata": {},
          "execution_count": 12
        }
      ]
    },
    {
      "cell_type": "markdown",
      "metadata": {
        "id": "hW-n-vgjlB0R"
      },
      "source": [
        "# Split Data"
      ]
    },
    {
      "cell_type": "code",
      "metadata": {
        "ExecuteTime": {
          "end_time": "2020-09-03T17:16:02.710972Z",
          "start_time": "2020-09-03T17:16:02.690629Z"
        },
        "id": "V20AZVcllB0R"
      },
      "source": [
        "X = data['Tokens']\n",
        "y = data['Stance']"
      ],
      "execution_count": 13,
      "outputs": []
    },
    {
      "cell_type": "markdown",
      "metadata": {
        "id": "rU_DxqMRlB0S"
      },
      "source": [
        "# Encode Labels"
      ]
    },
    {
      "cell_type": "code",
      "metadata": {
        "ExecuteTime": {
          "end_time": "2020-09-03T17:16:02.736519Z",
          "start_time": "2020-09-03T17:16:02.733107Z"
        },
        "id": "8Y15iD7SlB0T"
      },
      "source": [
        "le = LabelEncoder()"
      ],
      "execution_count": 14,
      "outputs": []
    },
    {
      "cell_type": "code",
      "metadata": {
        "ExecuteTime": {
          "end_time": "2020-09-03T17:16:02.754233Z",
          "start_time": "2020-09-03T17:16:02.750132Z"
        },
        "id": "-KgLeTxKlB0U"
      },
      "source": [
        "y_enc = le.fit_transform(y)"
      ],
      "execution_count": 15,
      "outputs": []
    },
    {
      "cell_type": "markdown",
      "metadata": {
        "id": "Wl_PLytzlB0U"
      },
      "source": [
        "# Evaluate Adjustments to Minimum Document Frequency"
      ]
    },
    {
      "cell_type": "code",
      "metadata": {
        "ExecuteTime": {
          "end_time": "2020-09-03T17:16:03.090745Z",
          "start_time": "2020-09-03T17:16:02.756711Z"
        },
        "id": "0VT4Vd9elB0U"
      },
      "source": [
        "from nltk import word_tokenize          \n",
        "from nltk.stem import WordNetLemmatizer \n",
        "class LemmaTokenizer:\n",
        "    def __init__(self):\n",
        "         self.wnl = WordNetLemmatizer()\n",
        "    def __call__(self, doc):\n",
        "        return [self.wnl.lemmatize(t) for t in doc]"
      ],
      "execution_count": 16,
      "outputs": []
    },
    {
      "cell_type": "code",
      "metadata": {
        "ExecuteTime": {
          "end_time": "2020-09-03T17:16:03.110361Z",
          "start_time": "2020-09-03T17:16:03.093086Z"
        },
        "id": "yzQD_3GTlB0V"
      },
      "source": [
        "class stop_word_remover:\n",
        "    def __init__(self):\n",
        "         self.stop_words = frozenset(['the', 'to', 'at', 'rt', 'for', 'a', \n",
        "                                      'in', 'is', 'of', 'and', 'on', 'i', \n",
        "                                      'you', 'an', 'with', 'it', 'this'])\n",
        "    def __call__(self, doc):\n",
        "        return [t for t in doc if t not in self.stop_words]"
      ],
      "execution_count": 17,
      "outputs": []
    },
    {
      "cell_type": "code",
      "metadata": {
        "ExecuteTime": {
          "end_time": "2020-09-03T17:16:03.118224Z",
          "start_time": "2020-09-03T17:16:03.113169Z"
        },
        "id": "SXHEdJnOlB0V"
      },
      "source": [
        "def passthrough(doc):\n",
        "    \"\"\"passthrough function for use in the pipeline because the text is already tokenized\"\"\"\n",
        "    return doc"
      ],
      "execution_count": 18,
      "outputs": []
    },
    {
      "cell_type": "code",
      "metadata": {
        "ExecuteTime": {
          "end_time": "2020-09-03T17:16:03.135991Z",
          "start_time": "2020-09-03T17:16:03.120657Z"
        },
        "id": "bCKq-PyelB0V"
      },
      "source": [
        "def train_and_eval_model(min_df, ngram_range):\n",
        "    \"\"\"\n",
        "    Train and Evaluate and Bag of Words Representation with a Naive Bayes\n",
        "    classifier with a specified minimum document frequency.\n",
        "    \"\"\"\n",
        "    \n",
        "    pipeline = Pipeline([\n",
        "                        ('bow',CountVectorizer(min_df=min_df,\n",
        "                                               ngram_range=ngram_range,\n",
        "                                               max_features=10000,\n",
        "                                               analyzer='word',\n",
        "                                               preprocessor=stop_word_remover(),\n",
        "                                               tokenizer=LemmaTokenizer(), \n",
        "                                               lowercase=False)),  \n",
        "                        ('tfidf', TfidfTransformer()),\n",
        "                        ('smote', SMOTE(random_state=RANDOM_STATE, n_jobs=-1)),\n",
        "                        ('classifier', SGDClassifier(random_state=RANDOM_STATE))])\n",
        "    \n",
        "   \n",
        "\n",
        "    scoring = {'accuracy' : make_scorer(accuracy_score),\n",
        "               'f1_score' : make_scorer(f1_score, average = 'micro'), \n",
        "               'precision' : make_scorer(precision_score, average = 'micro'),\n",
        "               'recall' : make_scorer(recall_score, average = 'micro') \n",
        "              }\n",
        "    \n",
        "    scores = cross_validate(pipeline, X, y_enc, cv=10, scoring=scoring)\n",
        "    sorted(scores.keys())\n",
        "\n",
        "    y_pred = cross_val_predict(pipeline, X, y_enc, cv=10)\n",
        "\n",
        "    \n",
        "    print(f'MINIMUM DOCUMENT FREQUENCY = {min_df}')\n",
        "    print('')\n",
        "    \n",
        "    conf_matrix = confusion_matrix(y_true=y_enc, y_pred=y_pred)\n",
        "\n",
        "    classi_report = classification_report(y_true=y_enc, y_pred=y_pred, digits=4, target_names=['Negative','Postive'])\n",
        "    print(classi_report)\n",
        "\n",
        "    \n",
        "    a = scores['test_accuracy'].mean()\n",
        "    f = scores['test_f1_score'].mean()\n",
        "    p = scores['test_precision'].mean()\n",
        "    r = scores['test_recall'].mean()\n",
        "    test_results = np.append(np.array([min_df, a, f, p]),r)\n",
        "    \n",
        "    \n",
        "   \n",
        "    return test_results, conf_matrix, y_pred \n",
        "    "
      ],
      "execution_count": 19,
      "outputs": []
    },
    {
      "cell_type": "code",
      "metadata": {
        "ExecuteTime": {
          "end_time": "2020-09-03T17:18:42.906766Z",
          "start_time": "2020-09-03T17:16:03.138290Z"
        },
        "scrolled": true,
        "id": "IkIHHKpElB0W",
        "colab": {
          "base_uri": "https://localhost:8080/"
        },
        "outputId": "e241f7b2-4908-4100-e252-71ae8f3fb049"
      },
      "source": [
        "metrics_summary = []\n",
        "\n",
        "for min_df in range(1,11):\n",
        "    test_scores, conf_matrix, y_pred = train_and_eval_model(min_df, (1,2))\n",
        "    metrics_summary.append(test_scores)"
      ],
      "execution_count": 20,
      "outputs": [
        {
          "output_type": "stream",
          "name": "stdout",
          "text": [
            "MINIMUM DOCUMENT FREQUENCY = 1\n",
            "\n",
            "              precision    recall  f1-score   support\n",
            "\n",
            "    Negative     0.8406    0.8650    0.8526      1030\n",
            "     Postive     0.8610    0.8359    0.8483      1030\n",
            "\n",
            "    accuracy                         0.8505      2060\n",
            "   macro avg     0.8508    0.8505    0.8505      2060\n",
            "weighted avg     0.8508    0.8505    0.8505      2060\n",
            "\n",
            "MINIMUM DOCUMENT FREQUENCY = 2\n",
            "\n",
            "              precision    recall  f1-score   support\n",
            "\n",
            "    Negative     0.8204    0.8427    0.8314      1030\n",
            "     Postive     0.8383    0.8155    0.8268      1030\n",
            "\n",
            "    accuracy                         0.8291      2060\n",
            "   macro avg     0.8294    0.8291    0.8291      2060\n",
            "weighted avg     0.8294    0.8291    0.8291      2060\n",
            "\n",
            "MINIMUM DOCUMENT FREQUENCY = 3\n",
            "\n",
            "              precision    recall  f1-score   support\n",
            "\n",
            "    Negative     0.8221    0.8388    0.8304      1030\n",
            "     Postive     0.8355    0.8184    0.8269      1030\n",
            "\n",
            "    accuracy                         0.8286      2060\n",
            "   macro avg     0.8288    0.8286    0.8286      2060\n",
            "weighted avg     0.8288    0.8286    0.8286      2060\n",
            "\n",
            "MINIMUM DOCUMENT FREQUENCY = 4\n",
            "\n",
            "              precision    recall  f1-score   support\n",
            "\n",
            "    Negative     0.8298    0.8330    0.8314      1030\n",
            "     Postive     0.8324    0.8291    0.8307      1030\n",
            "\n",
            "    accuracy                         0.8311      2060\n",
            "   macro avg     0.8311    0.8311    0.8311      2060\n",
            "weighted avg     0.8311    0.8311    0.8311      2060\n",
            "\n",
            "MINIMUM DOCUMENT FREQUENCY = 5\n",
            "\n",
            "              precision    recall  f1-score   support\n",
            "\n",
            "    Negative     0.8147    0.8282    0.8214      1030\n",
            "     Postive     0.8253    0.8117    0.8184      1030\n",
            "\n",
            "    accuracy                         0.8199      2060\n",
            "   macro avg     0.8200    0.8199    0.8199      2060\n",
            "weighted avg     0.8200    0.8199    0.8199      2060\n",
            "\n",
            "MINIMUM DOCUMENT FREQUENCY = 6\n",
            "\n",
            "              precision    recall  f1-score   support\n",
            "\n",
            "    Negative     0.8285    0.8301    0.8293      1030\n",
            "     Postive     0.8298    0.8282    0.8290      1030\n",
            "\n",
            "    accuracy                         0.8291      2060\n",
            "   macro avg     0.8291    0.8291    0.8291      2060\n",
            "weighted avg     0.8291    0.8291    0.8291      2060\n",
            "\n",
            "MINIMUM DOCUMENT FREQUENCY = 7\n",
            "\n",
            "              precision    recall  f1-score   support\n",
            "\n",
            "    Negative     0.8241    0.8417    0.8329      1030\n",
            "     Postive     0.8383    0.8204    0.8292      1030\n",
            "\n",
            "    accuracy                         0.8311      2060\n",
            "   macro avg     0.8312    0.8311    0.8310      2060\n",
            "weighted avg     0.8312    0.8311    0.8310      2060\n",
            "\n",
            "MINIMUM DOCUMENT FREQUENCY = 8\n",
            "\n",
            "              precision    recall  f1-score   support\n",
            "\n",
            "    Negative     0.8181    0.8427    0.8302      1030\n",
            "     Postive     0.8378    0.8126    0.8250      1030\n",
            "\n",
            "    accuracy                         0.8277      2060\n",
            "   macro avg     0.8280    0.8277    0.8276      2060\n",
            "weighted avg     0.8280    0.8277    0.8276      2060\n",
            "\n",
            "MINIMUM DOCUMENT FREQUENCY = 9\n",
            "\n",
            "              precision    recall  f1-score   support\n",
            "\n",
            "    Negative     0.8270    0.8447    0.8357      1030\n",
            "     Postive     0.8413    0.8233    0.8322      1030\n",
            "\n",
            "    accuracy                         0.8340      2060\n",
            "   macro avg     0.8341    0.8340    0.8340      2060\n",
            "weighted avg     0.8341    0.8340    0.8340      2060\n",
            "\n",
            "MINIMUM DOCUMENT FREQUENCY = 10\n",
            "\n",
            "              precision    recall  f1-score   support\n",
            "\n",
            "    Negative     0.8167    0.8350    0.8257      1030\n",
            "     Postive     0.8312    0.8126    0.8218      1030\n",
            "\n",
            "    accuracy                         0.8238      2060\n",
            "   macro avg     0.8239    0.8238    0.8238      2060\n",
            "weighted avg     0.8239    0.8238    0.8238      2060\n",
            "\n"
          ]
        }
      ]
    },
    {
      "cell_type": "code",
      "metadata": {
        "ExecuteTime": {
          "end_time": "2020-09-03T17:18:42.930765Z",
          "start_time": "2020-09-03T17:18:42.909046Z"
        },
        "id": "rwglKyWplB0X",
        "colab": {
          "base_uri": "https://localhost:8080/",
          "height": 363
        },
        "outputId": "693c9b19-3e8d-4399-af5e-ac46b5d20377"
      },
      "source": [
        "metrics_summary_df = pd.DataFrame(metrics_summary, \n",
        "                                  columns=['min doc freq',\n",
        "                                           'accuracy',\n",
        "                                           'f1_score',\n",
        "                                           'precision',\n",
        "                                          'recall'\n",
        "                                          ])\n",
        "\n",
        "metrics_summary_df"
      ],
      "execution_count": 21,
      "outputs": [
        {
          "output_type": "execute_result",
          "data": {
            "text/plain": [
              "   min doc freq  accuracy  f1_score  precision    recall\n",
              "0           1.0  0.850485  0.850485   0.850485  0.850485\n",
              "1           2.0  0.829126  0.829126   0.829126  0.829126\n",
              "2           3.0  0.828641  0.828641   0.828641  0.828641\n",
              "3           4.0  0.831068  0.831068   0.831068  0.831068\n",
              "4           5.0  0.819903  0.819903   0.819903  0.819903\n",
              "5           6.0  0.829126  0.829126   0.829126  0.829126\n",
              "6           7.0  0.831068  0.831068   0.831068  0.831068\n",
              "7           8.0  0.827670  0.827670   0.827670  0.827670\n",
              "8           9.0  0.833981  0.833981   0.833981  0.833981\n",
              "9          10.0  0.823786  0.823786   0.823786  0.823786"
            ],
            "text/html": [
              "\n",
              "  <div id=\"df-3618d43c-2830-4fe4-975e-96fcb1c40c2f\">\n",
              "    <div class=\"colab-df-container\">\n",
              "      <div>\n",
              "<style scoped>\n",
              "    .dataframe tbody tr th:only-of-type {\n",
              "        vertical-align: middle;\n",
              "    }\n",
              "\n",
              "    .dataframe tbody tr th {\n",
              "        vertical-align: top;\n",
              "    }\n",
              "\n",
              "    .dataframe thead th {\n",
              "        text-align: right;\n",
              "    }\n",
              "</style>\n",
              "<table border=\"1\" class=\"dataframe\">\n",
              "  <thead>\n",
              "    <tr style=\"text-align: right;\">\n",
              "      <th></th>\n",
              "      <th>min doc freq</th>\n",
              "      <th>accuracy</th>\n",
              "      <th>f1_score</th>\n",
              "      <th>precision</th>\n",
              "      <th>recall</th>\n",
              "    </tr>\n",
              "  </thead>\n",
              "  <tbody>\n",
              "    <tr>\n",
              "      <th>0</th>\n",
              "      <td>1.0</td>\n",
              "      <td>0.850485</td>\n",
              "      <td>0.850485</td>\n",
              "      <td>0.850485</td>\n",
              "      <td>0.850485</td>\n",
              "    </tr>\n",
              "    <tr>\n",
              "      <th>1</th>\n",
              "      <td>2.0</td>\n",
              "      <td>0.829126</td>\n",
              "      <td>0.829126</td>\n",
              "      <td>0.829126</td>\n",
              "      <td>0.829126</td>\n",
              "    </tr>\n",
              "    <tr>\n",
              "      <th>2</th>\n",
              "      <td>3.0</td>\n",
              "      <td>0.828641</td>\n",
              "      <td>0.828641</td>\n",
              "      <td>0.828641</td>\n",
              "      <td>0.828641</td>\n",
              "    </tr>\n",
              "    <tr>\n",
              "      <th>3</th>\n",
              "      <td>4.0</td>\n",
              "      <td>0.831068</td>\n",
              "      <td>0.831068</td>\n",
              "      <td>0.831068</td>\n",
              "      <td>0.831068</td>\n",
              "    </tr>\n",
              "    <tr>\n",
              "      <th>4</th>\n",
              "      <td>5.0</td>\n",
              "      <td>0.819903</td>\n",
              "      <td>0.819903</td>\n",
              "      <td>0.819903</td>\n",
              "      <td>0.819903</td>\n",
              "    </tr>\n",
              "    <tr>\n",
              "      <th>5</th>\n",
              "      <td>6.0</td>\n",
              "      <td>0.829126</td>\n",
              "      <td>0.829126</td>\n",
              "      <td>0.829126</td>\n",
              "      <td>0.829126</td>\n",
              "    </tr>\n",
              "    <tr>\n",
              "      <th>6</th>\n",
              "      <td>7.0</td>\n",
              "      <td>0.831068</td>\n",
              "      <td>0.831068</td>\n",
              "      <td>0.831068</td>\n",
              "      <td>0.831068</td>\n",
              "    </tr>\n",
              "    <tr>\n",
              "      <th>7</th>\n",
              "      <td>8.0</td>\n",
              "      <td>0.827670</td>\n",
              "      <td>0.827670</td>\n",
              "      <td>0.827670</td>\n",
              "      <td>0.827670</td>\n",
              "    </tr>\n",
              "    <tr>\n",
              "      <th>8</th>\n",
              "      <td>9.0</td>\n",
              "      <td>0.833981</td>\n",
              "      <td>0.833981</td>\n",
              "      <td>0.833981</td>\n",
              "      <td>0.833981</td>\n",
              "    </tr>\n",
              "    <tr>\n",
              "      <th>9</th>\n",
              "      <td>10.0</td>\n",
              "      <td>0.823786</td>\n",
              "      <td>0.823786</td>\n",
              "      <td>0.823786</td>\n",
              "      <td>0.823786</td>\n",
              "    </tr>\n",
              "  </tbody>\n",
              "</table>\n",
              "</div>\n",
              "      <button class=\"colab-df-convert\" onclick=\"convertToInteractive('df-3618d43c-2830-4fe4-975e-96fcb1c40c2f')\"\n",
              "              title=\"Convert this dataframe to an interactive table.\"\n",
              "              style=\"display:none;\">\n",
              "        \n",
              "  <svg xmlns=\"http://www.w3.org/2000/svg\" height=\"24px\"viewBox=\"0 0 24 24\"\n",
              "       width=\"24px\">\n",
              "    <path d=\"M0 0h24v24H0V0z\" fill=\"none\"/>\n",
              "    <path d=\"M18.56 5.44l.94 2.06.94-2.06 2.06-.94-2.06-.94-.94-2.06-.94 2.06-2.06.94zm-11 1L8.5 8.5l.94-2.06 2.06-.94-2.06-.94L8.5 2.5l-.94 2.06-2.06.94zm10 10l.94 2.06.94-2.06 2.06-.94-2.06-.94-.94-2.06-.94 2.06-2.06.94z\"/><path d=\"M17.41 7.96l-1.37-1.37c-.4-.4-.92-.59-1.43-.59-.52 0-1.04.2-1.43.59L10.3 9.45l-7.72 7.72c-.78.78-.78 2.05 0 2.83L4 21.41c.39.39.9.59 1.41.59.51 0 1.02-.2 1.41-.59l7.78-7.78 2.81-2.81c.8-.78.8-2.07 0-2.86zM5.41 20L4 18.59l7.72-7.72 1.47 1.35L5.41 20z\"/>\n",
              "  </svg>\n",
              "      </button>\n",
              "      \n",
              "  <style>\n",
              "    .colab-df-container {\n",
              "      display:flex;\n",
              "      flex-wrap:wrap;\n",
              "      gap: 12px;\n",
              "    }\n",
              "\n",
              "    .colab-df-convert {\n",
              "      background-color: #E8F0FE;\n",
              "      border: none;\n",
              "      border-radius: 50%;\n",
              "      cursor: pointer;\n",
              "      display: none;\n",
              "      fill: #1967D2;\n",
              "      height: 32px;\n",
              "      padding: 0 0 0 0;\n",
              "      width: 32px;\n",
              "    }\n",
              "\n",
              "    .colab-df-convert:hover {\n",
              "      background-color: #E2EBFA;\n",
              "      box-shadow: 0px 1px 2px rgba(60, 64, 67, 0.3), 0px 1px 3px 1px rgba(60, 64, 67, 0.15);\n",
              "      fill: #174EA6;\n",
              "    }\n",
              "\n",
              "    [theme=dark] .colab-df-convert {\n",
              "      background-color: #3B4455;\n",
              "      fill: #D2E3FC;\n",
              "    }\n",
              "\n",
              "    [theme=dark] .colab-df-convert:hover {\n",
              "      background-color: #434B5C;\n",
              "      box-shadow: 0px 1px 3px 1px rgba(0, 0, 0, 0.15);\n",
              "      filter: drop-shadow(0px 1px 2px rgba(0, 0, 0, 0.3));\n",
              "      fill: #FFFFFF;\n",
              "    }\n",
              "  </style>\n",
              "\n",
              "      <script>\n",
              "        const buttonEl =\n",
              "          document.querySelector('#df-3618d43c-2830-4fe4-975e-96fcb1c40c2f button.colab-df-convert');\n",
              "        buttonEl.style.display =\n",
              "          google.colab.kernel.accessAllowed ? 'block' : 'none';\n",
              "\n",
              "        async function convertToInteractive(key) {\n",
              "          const element = document.querySelector('#df-3618d43c-2830-4fe4-975e-96fcb1c40c2f');\n",
              "          const dataTable =\n",
              "            await google.colab.kernel.invokeFunction('convertToInteractive',\n",
              "                                                     [key], {});\n",
              "          if (!dataTable) return;\n",
              "\n",
              "          const docLinkHtml = 'Like what you see? Visit the ' +\n",
              "            '<a target=\"_blank\" href=https://colab.research.google.com/notebooks/data_table.ipynb>data table notebook</a>'\n",
              "            + ' to learn more about interactive tables.';\n",
              "          element.innerHTML = '';\n",
              "          dataTable['output_type'] = 'display_data';\n",
              "          await google.colab.output.renderOutput(dataTable, element);\n",
              "          const docLink = document.createElement('div');\n",
              "          docLink.innerHTML = docLinkHtml;\n",
              "          element.appendChild(docLink);\n",
              "        }\n",
              "      </script>\n",
              "    </div>\n",
              "  </div>\n",
              "  "
            ]
          },
          "metadata": {},
          "execution_count": 21
        }
      ]
    },
    {
      "cell_type": "code",
      "metadata": {
        "ExecuteTime": {
          "end_time": "2020-09-03T17:24:47.161130Z",
          "start_time": "2020-09-03T17:24:32.243518Z"
        },
        "scrolled": false,
        "id": "Lw56Eol3lB0Y",
        "colab": {
          "base_uri": "https://localhost:8080/",
          "height": 692
        },
        "outputId": "c3421ba4-1eb8-4f77-b1d5-5735d406eb8d"
      },
      "source": [
        "#Best Performace is when Minimum Document Frequency = 1\n",
        "\n",
        "test_results, conf_matrix, y_pred = train_and_eval_model(min_df=1, ngram_range=(1,2))\n",
        "labels = ['Negative', 'Postive']\n",
        "\n",
        "fig, ax = plt.subplots(figsize=(7.5, 7.5))\n",
        "ax.matshow(conf_matrix, cmap=plt.cm.Blues, alpha=0.3)\n",
        "for i in range(conf_matrix.shape[0]):\n",
        "    for j in range(conf_matrix.shape[1]):\n",
        "        ax.text(x=j, y=i,s=conf_matrix[i, j], va='center', ha='center', size='xx-large')\n",
        " \n",
        "plt.xlabel('Predictions', fontsize=18)\n",
        "plt.ylabel('Actuals', fontsize=18)\n",
        "ax.set_xticklabels([''] + labels)\n",
        "ax.set_yticklabels([''] + labels)\n",
        "plt.title('Confusion Matrix', fontsize=18)\n",
        "plt.show()"
      ],
      "execution_count": 22,
      "outputs": [
        {
          "output_type": "stream",
          "name": "stdout",
          "text": [
            "MINIMUM DOCUMENT FREQUENCY = 1\n",
            "\n",
            "              precision    recall  f1-score   support\n",
            "\n",
            "    Negative     0.8406    0.8650    0.8526      1030\n",
            "     Postive     0.8610    0.8359    0.8483      1030\n",
            "\n",
            "    accuracy                         0.8505      2060\n",
            "   macro avg     0.8508    0.8505    0.8505      2060\n",
            "weighted avg     0.8508    0.8505    0.8505      2060\n",
            "\n"
          ]
        },
        {
          "output_type": "display_data",
          "data": {
            "text/plain": [
              "<Figure size 540x540 with 1 Axes>"
            ],
            "image/png": "[encoded data removed]"
          },
          "metadata": {
            "needs_background": "light"
          }
        }
      ]
    }
  ]
}